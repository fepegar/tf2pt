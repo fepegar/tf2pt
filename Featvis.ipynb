{
 "cells": [
  {
   "cell_type": "code",
   "execution_count": 1,
   "metadata": {},
   "outputs": [],
   "source": [
    "import shutil\n",
    "from pathlib import Path\n",
    "\n",
    "import torch\n",
    "import torch.nn as nn\n",
    "import torch.optim as optim\n",
    "\n",
    "import numpy as np\n",
    "import nibabel as nib\n",
    "from tqdm import trange\n",
    "import matplotlib.pyplot as plt\n",
    "\n",
    "import visualization"
   ]
  },
  {
   "cell_type": "code",
   "execution_count": 2,
   "metadata": {},
   "outputs": [
    {
     "name": "stderr",
     "output_type": "stream",
     "text": [
      "Using cache found in /home/fernando/.cache/torch/hub/fepegar_highresnet_master\n"
     ]
    }
   ],
   "source": [
    "device = torch.device('cuda') if torch.cuda.is_available() else 'cpu'\n",
    "model = torch.hub.load('fepegar/highresnet', 'highres3dnet', pretrained=True)\n",
    "# Strip layers after last dilation block\n",
    "model = model.block[:-3]\n",
    "model.to(device).eval();"
   ]
  },
  {
   "cell_type": "code",
   "execution_count": 3,
   "metadata": {},
   "outputs": [],
   "source": [
    "initial_size = 16\n",
    "scale_factor = 1.2\n",
    "iterations = 41\n",
    "learning_rate = 1e-1\n",
    "upsampling_steps = 9\n",
    "\n",
    "upsample_step = nn.Upsample(scale_factor=scale_factor, mode='trilinear')"
   ]
  },
  {
   "cell_type": "code",
   "execution_count": 4,
   "metadata": {},
   "outputs": [
    {
     "data": {
      "image/png": "[encoded data removed]",
      "text/plain": [
       "<Figure size 648x360 with 3 Axes>"
      ]
     },
     "metadata": {
      "needs_background": "light"
     },
     "output_type": "display_data"
    }
   ],
   "source": [
    "initial_shape = initial_size, initial_size, initial_size\n",
    "means = torch.zeros(initial_shape)\n",
    "stds = torch.ones(initial_shape)\n",
    "input_volume = torch.normal(means, stds)\n",
    "visualization.plot_volume(input_volume.numpy())\n",
    "input_volume.unsqueeze_(0);  # add channels dim"
   ]
  },
  {
   "cell_type": "code",
   "execution_count": 5,
   "metadata": {},
   "outputs": [
    {
     "data": {
      "text/plain": [
       "ReLU()"
      ]
     },
     "execution_count": 5,
     "metadata": {},
     "output_type": "execute_result"
    }
   ],
   "source": [
    "model[-1].dilation_block[-1].residual_block[-1].convolutional_block[1]"
   ]
  },
  {
   "cell_type": "code",
   "execution_count": 6,
   "metadata": {},
   "outputs": [],
   "source": [
    "activation = {}\n",
    "def get_activation(name):\n",
    "    def hook(model, input, output):\n",
    "        activation[name] = output\n",
    "    return hook\n",
    "last_residual_relu = model[-1].dilation_block[-1].residual_block[-1].convolutional_block[1]\n",
    "hook = last_residual_relu.register_forward_hook(get_activation('last_relu'));"
   ]
  },
  {
   "cell_type": "code",
   "execution_count": 7,
   "metadata": {},
   "outputs": [],
   "source": [
    "def tensor_to_nii(batch, upsample=None, path=None):\n",
    "    batch = batch.clone().detach()\n",
    "    if upsample is not None:\n",
    "        batch = upsample(batch)\n",
    "    array = batch.cpu().numpy().squeeze()\n",
    "    nii = nib.Nifti1Image(array, np.eye(4))\n",
    "    if path is not None:\n",
    "        nii.to_filename(str(path))\n",
    "    return nii\n",
    "\n",
    "def final(ini, steps, factor):\n",
    "    size = ini\n",
    "    for _ in range(steps):\n",
    "        size *= factor\n",
    "        size = np.floor(size)\n",
    "    return 3 * (int(size),)\n",
    "\n",
    "output_size = final(initial_size, upsampling_steps, scale_factor)\n",
    "upsample_final = nn.Upsample(size=output_size, mode='trilinear')"
   ]
  },
  {
   "cell_type": "code",
   "execution_count": 8,
   "metadata": {},
   "outputs": [
    {
     "name": "stderr",
     "output_type": "stream",
     "text": [
      "  0%|          | 0/64 [00:00<?, ?it/s]"
     ]
    },
    {
     "name": "stdout",
     "output_type": "stream",
     "text": [
      "Size: 16\n"
     ]
    },
    {
     "name": "stderr",
     "output_type": "stream",
     "text": [
      "/home/fernando/miniconda3/envs/nn/lib/python3.6/site-packages/torch/nn/functional.py:2539: UserWarning: Default upsampling behavior when mode=trilinear is changed to align_corners=False since 0.4.0. Please specify align_corners=True if the old behavior is desired. See the documentation of nn.Upsample for details.\n",
      "  \"See the documentation of nn.Upsample for details.\".format(mode))\n"
     ]
    },
    {
     "name": "stdout",
     "output_type": "stream",
     "text": [
      "Size: 19\n",
      "Size: 22\n",
      "Size: 26\n",
      "Size: 31\n",
      "Size: 37\n",
      "Size: 44\n",
      "Size: 52\n",
      "Size: 62\n",
      "Size: 74\n"
     ]
    },
    {
     "name": "stderr",
     "output_type": "stream",
     "text": [
      "  2%|▏         | 1/64 [04:35<4:49:35, 275.81s/it]"
     ]
    },
    {
     "name": "stdout",
     "output_type": "stream",
     "text": [
      "Size: 16\n",
      "Size: 19\n",
      "Size: 22\n",
      "Size: 26\n",
      "Size: 31\n",
      "Size: 37\n",
      "Size: 44\n",
      "Size: 52\n",
      "Size: 62\n",
      "Size: 74\n"
     ]
    },
    {
     "name": "stderr",
     "output_type": "stream",
     "text": [
      "  3%|▎         | 2/64 [09:15<4:46:04, 276.84s/it]"
     ]
    },
    {
     "name": "stdout",
     "output_type": "stream",
     "text": [
      "Size: 16\n",
      "Size: 19\n",
      "Size: 22\n",
      "Size: 26\n",
      "Size: 31\n",
      "Size: 37\n",
      "Size: 44\n",
      "Size: 52\n",
      "Size: 62\n",
      "Size: 74\n"
     ]
    },
    {
     "name": "stderr",
     "output_type": "stream",
     "text": [
      "  5%|▍         | 3/64 [13:56<4:42:43, 278.09s/it]"
     ]
    },
    {
     "name": "stdout",
     "output_type": "stream",
     "text": [
      "Size: 16\n",
      "Size: 19\n",
      "Size: 22\n",
      "Size: 26\n",
      "Size: 31\n",
      "Size: 37\n",
      "Size: 44\n",
      "Size: 52\n",
      "Size: 62\n",
      "Size: 74\n"
     ]
    },
    {
     "name": "stderr",
     "output_type": "stream",
     "text": [
      "  6%|▋         | 4/64 [18:39<4:39:48, 279.80s/it]"
     ]
    },
    {
     "name": "stdout",
     "output_type": "stream",
     "text": [
      "Size: 16\n",
      "Size: 19\n",
      "Size: 22\n",
      "Size: 26\n",
      "Size: 31\n",
      "Size: 37\n",
      "Size: 44\n",
      "Size: 52\n",
      "Size: 62\n",
      "Size: 74\n"
     ]
    },
    {
     "name": "stderr",
     "output_type": "stream",
     "text": [
      "  8%|▊         | 5/64 [23:24<4:36:29, 281.18s/it]"
     ]
    },
    {
     "name": "stdout",
     "output_type": "stream",
     "text": [
      "Size: 16\n",
      "Size: 19\n",
      "Size: 22\n",
      "Size: 26\n",
      "Size: 31\n",
      "Size: 37\n",
      "Size: 44\n",
      "Size: 52\n",
      "Size: 62\n",
      "Size: 74\n"
     ]
    },
    {
     "name": "stderr",
     "output_type": "stream",
     "text": [
      "  9%|▉         | 6/64 [28:09<4:33:04, 282.50s/it]"
     ]
    },
    {
     "name": "stdout",
     "output_type": "stream",
     "text": [
      "Size: 16\n",
      "Size: 19\n",
      "Size: 22\n",
      "Size: 26\n",
      "Size: 31\n",
      "Size: 37\n",
      "Size: 44\n",
      "Size: 52\n",
      "Size: 62\n",
      "Size: 74\n"
     ]
    },
    {
     "name": "stderr",
     "output_type": "stream",
     "text": [
      " 11%|█         | 7/64 [33:00<4:30:33, 284.80s/it]"
     ]
    },
    {
     "name": "stdout",
     "output_type": "stream",
     "text": [
      "Size: 16\n",
      "Size: 19\n",
      "Size: 22\n",
      "Size: 26\n",
      "Size: 31\n",
      "Size: 37\n",
      "Size: 44\n",
      "Size: 52\n",
      "Size: 62\n",
      "Size: 74\n"
     ]
    },
    {
     "name": "stderr",
     "output_type": "stream",
     "text": [
      " 12%|█▎        | 8/64 [37:47<4:26:39, 285.71s/it]"
     ]
    },
    {
     "name": "stdout",
     "output_type": "stream",
     "text": [
      "Size: 16\n",
      "Size: 19\n",
      "Size: 22\n",
      "Size: 26\n",
      "Size: 31\n",
      "Size: 37\n",
      "Size: 44\n",
      "Size: 52\n",
      "Size: 62\n",
      "Size: 74\n"
     ]
    },
    {
     "name": "stderr",
     "output_type": "stream",
     "text": [
      " 14%|█▍        | 9/64 [42:36<4:22:35, 286.47s/it]"
     ]
    },
    {
     "name": "stdout",
     "output_type": "stream",
     "text": [
      "Size: 16\n",
      "Size: 19\n",
      "Size: 22\n",
      "Size: 26\n",
      "Size: 31\n",
      "Size: 37\n",
      "Size: 44\n",
      "Size: 52\n",
      "Size: 62\n",
      "Size: 74\n"
     ]
    },
    {
     "name": "stderr",
     "output_type": "stream",
     "text": [
      " 16%|█▌        | 10/64 [47:23<4:18:08, 286.82s/it]"
     ]
    },
    {
     "name": "stdout",
     "output_type": "stream",
     "text": [
      "Size: 16\n",
      "Size: 19\n",
      "Size: 22\n",
      "Size: 26\n",
      "Size: 31\n",
      "Size: 37\n",
      "Size: 44\n",
      "Size: 52\n",
      "Size: 62\n",
      "Size: 74\n"
     ]
    },
    {
     "name": "stderr",
     "output_type": "stream",
     "text": [
      " 17%|█▋        | 11/64 [52:12<4:13:50, 287.36s/it]"
     ]
    },
    {
     "name": "stdout",
     "output_type": "stream",
     "text": [
      "Size: 16\n",
      "Size: 19\n",
      "Size: 22\n",
      "Size: 26\n",
      "Size: 31\n",
      "Size: 37\n",
      "Size: 44\n"
     ]
    },
    {
     "ename": "KeyboardInterrupt",
     "evalue": "",
     "output_type": "error",
     "traceback": [
      "\u001b[0;31m---------------------------------------------------------------------------\u001b[0m",
      "\u001b[0;31mKeyboardInterrupt\u001b[0m                         Traceback (most recent call last)",
      "\u001b[0;32m<ipython-input-8-af25fd1399cd>\u001b[0m in \u001b[0;36m<module>\u001b[0;34m\u001b[0m\n\u001b[1;32m     20\u001b[0m             \u001b[0mloss\u001b[0m \u001b[0;34m=\u001b[0m \u001b[0;34m-\u001b[0m\u001b[0mactivation\u001b[0m\u001b[0;34m[\u001b[0m\u001b[0;34m'last_relu'\u001b[0m\u001b[0;34m]\u001b[0m\u001b[0;34m[\u001b[0m\u001b[0;36m0\u001b[0m\u001b[0;34m,\u001b[0m \u001b[0mfeature_index\u001b[0m\u001b[0;34m,\u001b[0m \u001b[0;34m...\u001b[0m\u001b[0;34m]\u001b[0m\u001b[0;34m.\u001b[0m\u001b[0mmean\u001b[0m\u001b[0;34m(\u001b[0m\u001b[0;34m)\u001b[0m\u001b[0;34m\u001b[0m\u001b[0;34m\u001b[0m\u001b[0m\n\u001b[1;32m     21\u001b[0m             \u001b[0mloss\u001b[0m\u001b[0;34m.\u001b[0m\u001b[0mbackward\u001b[0m\u001b[0;34m(\u001b[0m\u001b[0;34m)\u001b[0m\u001b[0;34m\u001b[0m\u001b[0;34m\u001b[0m\u001b[0m\n\u001b[0;32m---> 22\u001b[0;31m             \u001b[0mlosses\u001b[0m\u001b[0;34m.\u001b[0m\u001b[0mappend\u001b[0m\u001b[0;34m(\u001b[0m\u001b[0mloss\u001b[0m\u001b[0;34m.\u001b[0m\u001b[0mitem\u001b[0m\u001b[0;34m(\u001b[0m\u001b[0;34m)\u001b[0m\u001b[0;34m)\u001b[0m\u001b[0;34m\u001b[0m\u001b[0;34m\u001b[0m\u001b[0m\n\u001b[0m\u001b[1;32m     23\u001b[0m             \u001b[0moptimizer\u001b[0m\u001b[0;34m.\u001b[0m\u001b[0mstep\u001b[0m\u001b[0;34m(\u001b[0m\u001b[0;34m)\u001b[0m\u001b[0;34m\u001b[0m\u001b[0;34m\u001b[0m\u001b[0m\n\u001b[1;32m     24\u001b[0m     \u001b[0;31m#         if i % 10 == 0:\u001b[0m\u001b[0;34m\u001b[0m\u001b[0;34m\u001b[0m\u001b[0;34m\u001b[0m\u001b[0m\n",
      "\u001b[0;31mKeyboardInterrupt\u001b[0m: "
     ]
    }
   ],
   "source": [
    "output_dir = Path('/tmp/vis')\n",
    "if output_dir.is_dir():\n",
    "    import shutil\n",
    "    shutil.rmtree(output_dir)\n",
    "output_dir.mkdir(exist_ok=True)\n",
    "\n",
    "feature_index = 16\n",
    "\n",
    "for feature_index in trange(64):\n",
    "    batch = input_volume.unsqueeze(0).to(device)\n",
    "\n",
    "    losses = []\n",
    "    for step in range(1 + upsampling_steps):\n",
    "#         print('Size:',batch.shape[-1])\n",
    "        batch = batch.clone().detach().requires_grad_(True)  # recommended by PyTorch\n",
    "        optimizer = optim.Adam([batch], lr=learning_rate, weight_decay=1e-6)\n",
    "        for i in range(iterations):\n",
    "            optimizer.zero_grad()\n",
    "            model(batch)\n",
    "            loss = -activation['last_relu'][0, feature_index, ...].mean()\n",
    "            loss.backward()\n",
    "            losses.append(loss.item())\n",
    "            optimizer.step()\n",
    "    #         if i % 10 == 0:\n",
    "    #             path = output_dir / f'step_{step}_iter_{i:04d}.nii.gz'\n",
    "    #             tensor_to_nii(batch, upsample=upsample_final, path=path)\n",
    "        batch = batch.detach().clone()\n",
    "        batch = upsample_step(batch)\n",
    "\n",
    "    path = output_dir / f'feature_{feature_index}.nii.gz'\n",
    "    tensor_to_nii(batch, upsample=None, path=path)\n",
    "\n",
    "    #     iterations *= .85\n",
    "    #     iterations = np.round(iterations).astype(int)\n"
   ]
  }
 ],
 "metadata": {
  "kernelspec": {
   "display_name": "Python 3",
   "language": "python",
   "name": "python3"
  },
  "language_info": {
   "codemirror_mode": {
    "name": "ipython",
    "version": 3
   },
   "file_extension": ".py",
   "mimetype": "text/x-python",
   "name": "python",
   "nbconvert_exporter": "python",
   "pygments_lexer": "ipython3",
   "version": "3.6.8"
  }
 },
 "nbformat": 4,
 "nbformat_minor": 4
}
