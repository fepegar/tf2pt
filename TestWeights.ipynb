{
 "cells": [
  {
   "cell_type": "code",
   "execution_count": 1,
   "metadata": {},
   "outputs": [],
   "source": [
    "%matplotlib widget"
   ]
  },
  {
   "cell_type": "code",
   "execution_count": 2,
   "metadata": {},
   "outputs": [
    {
     "name": "stdout",
     "output_type": "stream",
     "text": [
      "INFO:tensorflow:TensorFlow version 1.10.0\n",
      "CRITICAL:tensorflow:Optional Python module cv2 not found, please install cv2 and retry if the application fails.\n",
      "CRITICAL:tensorflow:Optional Python module skimage.io not found, please install skimage.io and retry if the application fails.\n",
      "INFO:tensorflow:Available Image Loaders:\n",
      "['nibabel', 'pillow', 'simpleitk', 'dummy'].\n",
      "\u001b[1mINFO:niftynet:\u001b[0m Optional Python module yaml not found, please install yaml and retry if the application fails.\n",
      "\u001b[1mINFO:niftynet:\u001b[0m Optional Python module yaml version None not found, please install yaml-None and retry if the application fails.\n"
     ]
    }
   ],
   "source": [
    "from pathlib import Path\n",
    "\n",
    "import torch\n",
    "\n",
    "import numpy as np\n",
    "import nibabel as nib\n",
    "import matplotlib.pyplot as plt\n",
    "\n",
    "from niftynet.io.image_reader import ImageReader\n",
    "from niftynet.utilities.util_common import ParserNamespace\n",
    "from niftynet.io.image_sets_partitioner import ImageSetsPartitioner\n",
    "from niftynet.layer.histogram_normalisation import (\n",
    "    HistogramNormalisationLayer,\n",
    ")\n",
    "from niftynet.layer.binary_masking import (\n",
    "    BinaryMaskingLayer,\n",
    ")\n",
    "\n",
    "from highresnet import HighRes3DNet"
   ]
  },
  {
   "cell_type": "code",
   "execution_count": 3,
   "metadata": {},
   "outputs": [],
   "source": [
    "state_dict_pt_path = '/tmp/state_dict_pt.pth'"
   ]
  },
  {
   "cell_type": "markdown",
   "metadata": {},
   "source": [
    "## Standardisation"
   ]
  },
  {
   "cell_type": "code",
   "execution_count": 4,
   "metadata": {},
   "outputs": [
    {
     "name": "stdout",
     "output_type": "stream",
     "text": [
      "\u001b[1mINFO:niftynet:\u001b[0m \n",
      "\n",
      "Number of subjects 1, input section names: ['subject_id', 'Modality0']\n",
      "-- using all subjects (without data partitioning).\n",
      "\n",
      "\u001b[1mINFO:niftynet:\u001b[0m Image reader: loading 1 subjects from sections ('Modality0',) as input [image]\n"
     ]
    }
   ],
   "source": [
    "def preprocess(input_path,\n",
    "               model_path,\n",
    "               output_path,\n",
    "               cutoff,\n",
    "    ):\n",
    "    input_path = Path(input_path)\n",
    "    output_path = Path(output_path)\n",
    "    input_dir = input_path.parent\n",
    "    \n",
    "    DATA_PARAM = {\n",
    "        'Modality0': ParserNamespace(\n",
    "            path_to_search=str(input_dir),\n",
    "            filename_contains=('nii.gz',),\n",
    "            interp_order=0,\n",
    "            pixdim=None,\n",
    "            axcodes='RAS',\n",
    "            loader=None,\n",
    "        )\n",
    "    }\n",
    "\n",
    "    TASK_PARAM = ParserNamespace(image=('Modality0',))\n",
    "    data_partitioner = ImageSetsPartitioner()\n",
    "    file_list = data_partitioner.initialise(DATA_PARAM).get_file_list()\n",
    "    reader = ImageReader(['image'])\n",
    "    reader.initialise(DATA_PARAM, TASK_PARAM, file_list)\n",
    "    \n",
    "    binary_masking_func = BinaryMaskingLayer(\n",
    "        type_str='mean_plus',\n",
    "    )\n",
    "    \n",
    "    hist_norm = HistogramNormalisationLayer(\n",
    "        image_name='image',\n",
    "        modalities=['Modality0'],\n",
    "        model_filename=str(model_path),\n",
    "        binary_masking_func=binary_masking_func,\n",
    "        cutoff=cutoff,\n",
    "        name='hist_norm_layer',\n",
    "    )\n",
    "    \n",
    "    image = reader.output_list[0]['image']\n",
    "    data = image.get_data()\n",
    "    norm_image_dict, mask_dict = hist_norm({'image': data})\n",
    "    data = norm_image_dict['image']\n",
    "    nii = nib.Nifti1Image(data.squeeze(), image.original_affine[0])\n",
    "    dst = output_path\n",
    "    nii.to_filename(str(dst))\n",
    "\n",
    "input_path = '/tmp/pt/reoriented/reoriented.nii.gz'\n",
    "model_path = '/home/fernando/niftynet/models/highres3dnet_brain_parcellation/databrain_std_hist_models_otsu.txt'\n",
    "output_path = Path('/tmp/hist.nii.gz')\n",
    "cutoff = (0.001, 0.999)  # from .ini\n",
    "preprocess(input_path, model_path, output_path, cutoff)"
   ]
  },
  {
   "cell_type": "markdown",
   "metadata": {},
   "source": [
    "## Whitening"
   ]
  },
  {
   "cell_type": "code",
   "execution_count": 11,
   "metadata": {},
   "outputs": [],
   "source": [
    "nii = nib.load(str(output_path))\n",
    "data = nii.get_data()\n",
    "fg_only = False\n",
    "if fg_only:\n",
    "    mask = data > data.mean()\n",
    "    values = data[mask]\n",
    "else:\n",
    "    values = data\n",
    "data -= values.mean()\n",
    "data /= values.std()"
   ]
  },
  {
   "cell_type": "code",
   "execution_count": 12,
   "metadata": {},
   "outputs": [],
   "source": [
    "def plot_volume(array):\n",
    "    def turn(s):\n",
    "        return np.fliplr(np.rot90(s))\n",
    "    fig, axes = plt.subplots(1, 3)\n",
    "    si, sj, sk = array.shape\n",
    "    axes[0].imshow(turn(array[si//2, ...]), cmap='gray')\n",
    "    axes[1].imshow(turn(array[:, sj//2, :]), cmap='gray')\n",
    "    axes[2].imshow(turn(array[..., sk//2]), cmap='gray')\n",
    "    plt.tight_layout()"
   ]
  },
  {
   "cell_type": "code",
   "execution_count": 13,
   "metadata": {},
   "outputs": [
    {
     "data": {
      "application/vnd.jupyter.widget-view+json": {
       "model_id": "df29a1b201e44b119c88419c464115d4",
       "version_major": 2,
       "version_minor": 0
      },
      "text/plain": [
       "FigureCanvasNbAgg()"
      ]
     },
     "metadata": {},
     "output_type": "display_data"
    }
   ],
   "source": [
    "# plot_volume(data)\n",
    "size = 128\n",
    "center = np.array((80, 116, 128))\n",
    "ini = center - size // 2\n",
    "fin = ini + size\n",
    "roi = data[ini[0]:fin[0], ini[1]:fin[1], ini[2]:fin[2]]\n",
    "plot_volume(roi)\n",
    "plt.show()"
   ]
  },
  {
   "cell_type": "code",
   "execution_count": 14,
   "metadata": {},
   "outputs": [
    {
     "name": "stdout",
     "output_type": "stream",
     "text": [
      "torch.Size([1, 16, 128, 128, 128])\n",
      "134.217728 MB\n",
      "\n",
      "torch.Size([1, 16, 128, 128, 128])\n",
      "134.217728 MB\n",
      "\n",
      "torch.Size([1, 16, 128, 128, 128])\n",
      "134.217728 MB\n",
      "\n",
      "torch.Size([1, 16, 128, 128, 128])\n",
      "134.217728 MB\n",
      "\n",
      "torch.Size([1, 16, 128, 128, 128])\n",
      "134.217728 MB\n",
      "\n",
      "torch.Size([1, 16, 128, 128, 128])\n",
      "134.217728 MB\n",
      "\n",
      "torch.Size([1, 16, 128, 128, 128])\n",
      "134.217728 MB\n",
      "\n",
      "torch.Size([1, 32, 128, 128, 128])\n",
      "268.435456 MB\n",
      "\n",
      "torch.Size([1, 32, 128, 128, 128])\n",
      "268.435456 MB\n",
      "\n",
      "torch.Size([1, 32, 128, 128, 128])\n",
      "268.435456 MB\n",
      "\n",
      "torch.Size([1, 32, 128, 128, 128])\n",
      "268.435456 MB\n",
      "\n",
      "torch.Size([1, 32, 128, 128, 128])\n",
      "268.435456 MB\n",
      "\n",
      "torch.Size([1, 32, 128, 128, 128])\n",
      "268.435456 MB\n",
      "\n",
      "torch.Size([1, 64, 128, 128, 128])\n",
      "536.870912 MB\n",
      "\n",
      "torch.Size([1, 64, 128, 128, 128])\n",
      "536.870912 MB\n",
      "\n",
      "torch.Size([1, 64, 128, 128, 128])\n",
      "536.870912 MB\n",
      "\n",
      "torch.Size([1, 64, 128, 128, 128])\n",
      "536.870912 MB\n",
      "\n",
      "torch.Size([1, 64, 128, 128, 128])\n",
      "536.870912 MB\n",
      "\n",
      "torch.Size([1, 64, 128, 128, 128])\n",
      "536.870912 MB\n",
      "\n",
      "torch.Size([1, 80, 128, 128, 128])\n",
      "671.08864 MB\n",
      "\n",
      "torch.Size([1, 160, 128, 128, 128])\n",
      "1342.17728 MB\n",
      "\n"
     ]
    }
   ],
   "source": [
    "device = torch.device(\"cuda\" if torch.cuda.is_available() else \"cpu\")\n",
    "state_dict_pt = torch.load(state_dict_pt_path)\n",
    "model = HighRes3DNet(1, 160, add_dropout_layer=True)\n",
    "model.load_state_dict(state_dict_pt)\n",
    "model = model.to(device)\n",
    "tensor = torch.tensor(roi)\n",
    "tensor = tensor.unsqueeze(0)  # channels dimension\n",
    "batch = tensor.unsqueeze(0)  # batch dimension\n",
    "batch = batch.to(device)\n",
    "\n",
    "model.eval()\n",
    "with torch.no_grad():\n",
    "    output = model(batch)\n",
    "\n",
    "del model"
   ]
  },
  {
   "cell_type": "code",
   "execution_count": 15,
   "metadata": {},
   "outputs": [
    {
     "data": {
      "application/vnd.jupyter.widget-view+json": {
       "model_id": "e71bbbca411b4eaebe59d3e75f8c524a",
       "version_major": 2,
       "version_minor": 0
      },
      "text/plain": [
       "FigureCanvasNbAgg()"
      ]
     },
     "metadata": {},
     "output_type": "display_data"
    },
    {
     "data": {
      "application/vnd.jupyter.widget-view+json": {
       "model_id": "ead756eab3ae46299a343bef8b0f398f",
       "version_major": 2,
       "version_minor": 0
      },
      "text/plain": [
       "FigureCanvasNbAgg()"
      ]
     },
     "metadata": {},
     "output_type": "display_data"
    }
   ],
   "source": [
    "labels = output.argmax(dim=1).squeeze().cpu().numpy()\n",
    "plot_volume(roi)\n",
    "plot_volume(labels)"
   ]
  },
  {
   "cell_type": "code",
   "execution_count": 10,
   "metadata": {},
   "outputs": [],
   "source": [
    "label_map = np.zeros_like(data, dtype=np.uint16)\n",
    "label_map[ini[0]:fin[0], ini[1]:fin[1], ini[2]:fin[2]] = labels\n",
    "label_nii = nib.Nifti1Image(label_map, nii.affine)\n",
    "label_nii.to_filename('/tmp/labels.nii.gz')"
   ]
  }
 ],
 "metadata": {
  "kernelspec": {
   "display_name": "Python 3",
   "language": "python",
   "name": "python3"
  },
  "language_info": {
   "codemirror_mode": {
    "name": "ipython",
    "version": 3
   },
   "file_extension": ".py",
   "mimetype": "text/x-python",
   "name": "python",
   "nbconvert_exporter": "python",
   "pygments_lexer": "ipython3",
   "version": "3.6.8"
  }
 },
 "nbformat": 4,
 "nbformat_minor": 2
}
